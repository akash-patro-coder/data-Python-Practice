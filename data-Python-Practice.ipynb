{
 "cells": [
  {
   "cell_type": "code",
   "execution_count": 0,
   "metadata": {
    "application/vnd.databricks.v1+cell": {
     "cellMetadata": {
      "byteLimit": 2048000,
      "rowLimit": 10000
     },
     "inputWidgets": {},
     "nuid": "adf5d340-d385-4464-abde-0ad2be46b6cd",
     "showTitle": false,
     "tableResultSettingsMap": {},
     "title": ""
    }
   },
   "outputs": [],
   "source": [
    "# Spark\n",
    "df = spark.read.csv(\"/Volumes/workspace/customers/data/data.csv\", header=True, inferSchema=True)\n",
    "df.show(5)\n",
    "\n",
    "# Pandas\n",
    "import pandas as pd\n",
    "pdf = pd.read_csv(\"/Volumes/workspace/customers/data/data.csv\")\n",
    "print(pdf.head())\n"
   ]
  },
  {
   "cell_type": "code",
   "execution_count": 0,
   "metadata": {
    "application/vnd.databricks.v1+cell": {
     "cellMetadata": {
      "byteLimit": 2048000,
      "rowLimit": 10000
     },
     "inputWidgets": {},
     "nuid": "187a408a-0b73-4e7a-9d56-e7600aefacb4",
     "showTitle": false,
     "tableResultSettingsMap": {},
     "title": ""
    }
   },
   "outputs": [],
   "source": [
    "# Read CSV from the volume\n",
    "df = spark.read.csv(\"/Volumes/workspace/customers/data/data.csv\", header=True, inferSchema=True)\n",
    "df.show(5)\n",
    "df.printSchema()\n"
   ]
  },
  {
   "cell_type": "code",
   "execution_count": 0,
   "metadata": {
    "application/vnd.databricks.v1+cell": {
     "cellMetadata": {
      "byteLimit": 2048000,
      "rowLimit": 10000
     },
     "inputWidgets": {},
     "nuid": "92c36c47-fd8b-4066-b08f-22b7fafcb8dc",
     "showTitle": false,
     "tableResultSettingsMap": {},
     "title": ""
    }
   },
   "outputs": [],
   "source": [
    "#Convert to Pandas (for looping easily)\n",
    "\n",
    "import pandas as pd\n",
    "\n",
    "pdf = df.toPandas()\n",
    "print(pdf.head())\n"
   ]
  },
  {
   "cell_type": "code",
   "execution_count": 0,
   "metadata": {
    "application/vnd.databricks.v1+cell": {
     "cellMetadata": {
      "byteLimit": 2048000,
      "rowLimit": 10000
     },
     "inputWidgets": {},
     "nuid": "20f7d612-3c2b-42d4-9008-2e5964a10914",
     "showTitle": false,
     "tableResultSettingsMap": {},
     "title": ""
    }
   },
   "outputs": [],
   "source": [
    "# dictionary for one customer\n",
    "\n",
    "customer = {\n",
    "    \"id\": pdf.loc[0, \"Customer Id\"],\n",
    "    \"name\": pdf.loc[0, \"First Name\"] + \" \" + pdf.loc[0, \"Last Name\"],\n",
    "    \"city\": pdf.loc[0, \"City\"],\n",
    "    \"country\": pdf.loc[0, \"Country\"],\n",
    "    \"email\": pdf.loc[0, \"Email\"]\n",
    "}\n",
    "print(\"Customer Dictionary:\", customer)\n"
   ]
  },
  {
   "cell_type": "code",
   "execution_count": 0,
   "metadata": {
    "application/vnd.databricks.v1+cell": {
     "cellMetadata": {
      "byteLimit": 2048000,
      "rowLimit": 10000
     },
     "inputWidgets": {},
     "nuid": "083763ed-8f2c-4521-805a-479cc12ba8aa",
     "showTitle": false,
     "tableResultSettingsMap": {},
     "title": ""
    }
   },
   "outputs": [],
   "source": [
    "# list of 5 companies\n",
    "companies = pdf[\"Company\"].head(5).tolist()\n",
    "\n",
    "print(\"\\nCompanies in Uppercase:\")\n",
    "for company in companies:\n",
    "    print(company.upper())"
   ]
  },
  {
   "cell_type": "code",
   "execution_count": 0,
   "metadata": {
    "application/vnd.databricks.v1+cell": {
     "cellMetadata": {
      "byteLimit": 2048000,
      "rowLimit": 10000
     },
     "inputWidgets": {},
     "nuid": "fc833e23-8c81-4541-a588-dd5fc3046c8b",
     "showTitle": false,
     "tableResultSettingsMap": {},
     "title": ""
    }
   },
   "outputs": [],
   "source": [
    "#if-else logic for \"Long-Term Customer\" vs \"New Customer\"\n",
    "\n",
    "print(\"\\nCustomer Subscription Check:\")\n",
    "for _, row in pdf.iterrows():\n",
    "    year = int(str(row[\"Subscription Date\"]).split(\"-\")[0])  # assuming YYYY-MM-DD\n",
    "    status = \"Long-Term\" if year < 2020 else \"New\"\n",
    "    print(f\"{row['First Name']} {row['Last Name']} → {status} Customer\")\n"
   ]
  },
  {
   "cell_type": "code",
   "execution_count": 0,
   "metadata": {
    "application/vnd.databricks.v1+cell": {
     "cellMetadata": {
      "byteLimit": 2048000,
      "rowLimit": 10000
     },
     "inputWidgets": {},
     "nuid": "f321bdff-80b7-4832-97df-1fb75531f4f2",
     "showTitle": false,
     "tableResultSettingsMap": {},
     "title": ""
    }
   },
   "outputs": [],
   "source": [
    "# Discount Function (simulate subscription discount)\n",
    "\n",
    "def apply_discount(amount):\n",
    "    return amount - (amount * 0.10)\n",
    "\n",
    "print(\"\\nDiscount Example:\")\n",
    "subscription_fee = 1000\n",
    "final_price = apply_discount(subscription_fee)\n",
    "print(f\"Original Fee: {subscription_fee} | After Discount: {final_price}\")\n"
   ]
  },
  {
   "cell_type": "code",
   "execution_count": 0,
   "metadata": {
    "application/vnd.databricks.v1+cell": {
     "cellMetadata": {
      "byteLimit": 2048000,
      "rowLimit": 10000
     },
     "inputWidgets": {},
     "nuid": "b08fee5c-dfa7-4222-b927-818799d4e3a1",
     "showTitle": false,
     "tableResultSettingsMap": {},
     "title": ""
    }
   },
   "outputs": [],
   "source": [
    "# ------------------------------\n",
    "# 1. Customer Segmentation\n",
    "# ------------------------------\n",
    "print(\"\\nCustomer Segmentation:\")\n",
    "for _, row in pdf.iterrows():\n",
    "    # Extract year from Subscription Date (assumes format YYYY-MM-DD)\n",
    "    year = int(str(row[\"Subscription Date\"]).split(\"-\")[0])\n",
    "    \n",
    "    # Apply business rules for segmentation\n",
    "    if year < 2020:\n",
    "        segment = \"Loyal Customer\"\n",
    "    elif 2020 <= year <= 2022:\n",
    "        segment = \"Regular Customer\"\n",
    "    else:\n",
    "        segment = \"New Customer\"\n",
    "    \n",
    "    # Print result\n",
    "    print(f\"{row['First Name']} {row['Last Name']} → {segment}\")"
   ]
  },
  {
   "cell_type": "code",
   "execution_count": 0,
   "metadata": {
    "application/vnd.databricks.v1+cell": {
     "cellMetadata": {
      "byteLimit": 2048000,
      "rowLimit": 10000
     },
     "inputWidgets": {},
     "nuid": "5ae4ae17-eb97-446b-831a-bc1745ae4dca",
     "showTitle": false,
     "tableResultSettingsMap": {},
     "title": ""
    }
   },
   "outputs": [],
   "source": [
    "# ------------------------------\n",
    "# 2. Country-Based Business Insights\n",
    "# ------------------------------\n",
    "print(\"\\nCustomer Count by Country:\")\n",
    "\n",
    "# Count how many customers belong to each country\n",
    "country_counts = pdf[\"Country\"].value_counts()\n",
    "\n",
    "# Print summary (useful for regional marketing or support)\n",
    "print(country_counts)"
   ]
  },
  {
   "cell_type": "code",
   "execution_count": 0,
   "metadata": {
    "application/vnd.databricks.v1+cell": {
     "cellMetadata": {
      "byteLimit": 2048000,
      "rowLimit": 10000
     },
     "inputWidgets": {},
     "nuid": "8603c51e-a7f2-4967-baa0-cb4c6036d1d3",
     "showTitle": false,
     "tableResultSettingsMap": {},
     "title": ""
    }
   },
   "outputs": [],
   "source": [
    "# ------------------------------\n",
    "# 3. Company Insights\n",
    "# ------------------------------\n",
    "print(\"\\nTop Companies by Customer Count:\")\n",
    "\n",
    "# Find top 5 companies with most customers\n",
    "company_counts = pdf[\"Company\"].value_counts().head(5)\n",
    "\n",
    "# Print results (useful for B2B targeting)\n",
    "print(company_counts)\n"
   ]
  },
  {
   "cell_type": "code",
   "execution_count": 0,
   "metadata": {
    "application/vnd.databricks.v1+cell": {
     "cellMetadata": {
      "byteLimit": 2048000,
      "rowLimit": 10000
     },
     "inputWidgets": {},
     "nuid": "7f93014a-3877-4036-9a26-adff3dfadc1d",
     "showTitle": false,
     "tableResultSettingsMap": {},
     "title": ""
    }
   },
   "outputs": [],
   "source": [
    "# ------------------------------\n",
    "# 4. Contact Validation\n",
    "# ------------------------------\n",
    "print(\"\\nMissing Contact Info:\")\n",
    "\n",
    "# Find customers with missing Email OR missing Phone 1\n",
    "missing_contacts = pdf[(pdf[\"Email\"].isnull()) | (pdf[\"Phone 1\"].isnull())]\n",
    "\n",
    "# Show only relevant fields\n",
    "print(missing_contacts[[\"First Name\", \"Last Name\", \"Email\", \"Phone 1\"]])"
   ]
  },
  {
   "cell_type": "code",
   "execution_count": 0,
   "metadata": {
    "application/vnd.databricks.v1+cell": {
     "cellMetadata": {
      "byteLimit": 2048000,
      "rowLimit": 10000
     },
     "inputWidgets": {},
     "nuid": "6b5fd6bc-00f0-46bd-98b5-d42f2c350e1f",
     "showTitle": false,
     "tableResultSettingsMap": {},
     "title": ""
    }
   },
   "outputs": [],
   "source": [
    "# ------------------------------\n",
    "# 5. Subscription Renewal Logic\n",
    "# ------------------------------\n",
    "print(\"\\nSubscription Renewal Pricing:\")\n",
    "\n",
    "# Function to calculate discount based on subscription year\n",
    "def apply_discount(year, fee=1000):\n",
    "    if year < 2021:  # older customers get more discount\n",
    "        return fee - (fee * 0.20)  # 20% discount\n",
    "    else:\n",
    "        return fee - (fee * 0.10)  # 10% discount\n",
    "\n",
    "# Apply logic row by row\n",
    "for _, row in pdf.iterrows():\n",
    "    year = int(str(row[\"Subscription Date\"]).split(\"-\")[0])\n",
    "    discounted_price = apply_discount(year)\n",
    "    print(f\"{row['First Name']} {row['Last Name']} | Year: {year} | Renewal Fee: {discounted_price}\")"
   ]
  }
 ],
 "metadata": {
  "application/vnd.databricks.v1+notebook": {
   "computePreferences": null,
   "dashboards": [],
   "environmentMetadata": {
    "base_environment": "",
    "environment_version": "3"
   },
   "inputWidgetPreferences": null,
   "language": "python",
   "notebookMetadata": {
    "pythonIndentUnit": 4
   },
   "notebookName": "data-Python-Practice",
   "widgets": {}
  },
  "language_info": {
   "name": "python"
  }
 },
 "nbformat": 4,
 "nbformat_minor": 0
}
